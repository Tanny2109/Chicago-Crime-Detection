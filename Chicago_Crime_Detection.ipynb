{
 "cells": [
  {
   "cell_type": "code",
   "execution_count": 2,
   "metadata": {},
   "outputs": [],
   "source": [
    "import numpy as np\n",
    "import pandas as pd\n",
    "import matplotlib.pyplot as plt\n",
    "import seaborn as sns\n",
    "%matplotlib inline"
   ]
  },
  {
   "cell_type": "code",
   "execution_count": 2,
   "metadata": {},
   "outputs": [
    {
     "name": "stderr",
     "output_type": "stream",
     "text": [
      "H:\\Anaconda\\lib\\site-packages\\IPython\\core\\interactiveshell.py:3063: DtypeWarning: Columns (7,8) have mixed types.Specify dtype option on import or set low_memory=False.\n",
      "  interactivity=interactivity, compiler=compiler, result=result)\n"
     ]
    },
    {
     "data": {
      "text/html": [
       "<div>\n",
       "<style scoped>\n",
       "    .dataframe tbody tr th:only-of-type {\n",
       "        vertical-align: middle;\n",
       "    }\n",
       "\n",
       "    .dataframe tbody tr th {\n",
       "        vertical-align: top;\n",
       "    }\n",
       "\n",
       "    .dataframe thead th {\n",
       "        text-align: right;\n",
       "    }\n",
       "</style>\n",
       "<table border=\"1\" class=\"dataframe\">\n",
       "  <thead>\n",
       "    <tr style=\"text-align: right;\">\n",
       "      <th></th>\n",
       "      <th>Unnamed: 0</th>\n",
       "      <th>ID</th>\n",
       "      <th>Date</th>\n",
       "      <th>LocationDescription</th>\n",
       "      <th>Arrest</th>\n",
       "      <th>Domestic</th>\n",
       "      <th>Beat</th>\n",
       "      <th>District</th>\n",
       "      <th>CommunityArea</th>\n",
       "      <th>Year</th>\n",
       "    </tr>\n",
       "  </thead>\n",
       "  <tbody>\n",
       "    <tr>\n",
       "      <th>0</th>\n",
       "      <td>0</td>\n",
       "      <td>8951354</td>\n",
       "      <td>12/31/12 23:15</td>\n",
       "      <td>STREET</td>\n",
       "      <td>False</td>\n",
       "      <td>False</td>\n",
       "      <td>623</td>\n",
       "      <td>6</td>\n",
       "      <td>69</td>\n",
       "      <td>2012</td>\n",
       "    </tr>\n",
       "    <tr>\n",
       "      <th>1</th>\n",
       "      <td>1</td>\n",
       "      <td>8951141</td>\n",
       "      <td>12/31/12 22:00</td>\n",
       "      <td>STREET</td>\n",
       "      <td>False</td>\n",
       "      <td>False</td>\n",
       "      <td>1213</td>\n",
       "      <td>12</td>\n",
       "      <td>24</td>\n",
       "      <td>2012</td>\n",
       "    </tr>\n",
       "    <tr>\n",
       "      <th>2</th>\n",
       "      <td>2</td>\n",
       "      <td>8952745</td>\n",
       "      <td>12/31/12 22:00</td>\n",
       "      <td>RESIDENTIAL YARD (FRONT/BACK)</td>\n",
       "      <td>False</td>\n",
       "      <td>False</td>\n",
       "      <td>1622</td>\n",
       "      <td>16</td>\n",
       "      <td>11</td>\n",
       "      <td>2012</td>\n",
       "    </tr>\n",
       "    <tr>\n",
       "      <th>3</th>\n",
       "      <td>3</td>\n",
       "      <td>8952223</td>\n",
       "      <td>12/31/12 22:00</td>\n",
       "      <td>STREET</td>\n",
       "      <td>False</td>\n",
       "      <td>False</td>\n",
       "      <td>724</td>\n",
       "      <td>7</td>\n",
       "      <td>67</td>\n",
       "      <td>2012</td>\n",
       "    </tr>\n",
       "    <tr>\n",
       "      <th>4</th>\n",
       "      <td>4</td>\n",
       "      <td>8951608</td>\n",
       "      <td>12/31/12 21:30</td>\n",
       "      <td>STREET</td>\n",
       "      <td>False</td>\n",
       "      <td>False</td>\n",
       "      <td>211</td>\n",
       "      <td>2</td>\n",
       "      <td>35</td>\n",
       "      <td>2012</td>\n",
       "    </tr>\n",
       "  </tbody>\n",
       "</table>\n",
       "</div>"
      ],
      "text/plain": [
       "   Unnamed: 0       ID            Date            LocationDescription  Arrest  \\\n",
       "0           0  8951354  12/31/12 23:15                         STREET   False   \n",
       "1           1  8951141  12/31/12 22:00                         STREET   False   \n",
       "2           2  8952745  12/31/12 22:00  RESIDENTIAL YARD (FRONT/BACK)   False   \n",
       "3           3  8952223  12/31/12 22:00                         STREET   False   \n",
       "4           4  8951608  12/31/12 21:30                         STREET   False   \n",
       "\n",
       "   Domestic  Beat District CommunityArea  Year  \n",
       "0     False   623        6            69  2012  \n",
       "1     False  1213       12            24  2012  \n",
       "2     False  1622       16            11  2012  \n",
       "3     False   724        7            67  2012  \n",
       "4     False   211        2            35  2012  "
      ]
     },
     "execution_count": 2,
     "metadata": {},
     "output_type": "execute_result"
    }
   ],
   "source": [
    "##converter = lambda x: pd.to_numeric(x, 'coerce')\n",
    "df = pd.read_csv('Chicago_Crime_Detective.csv')\n",
    "df.head()"
   ]
  },
  {
   "cell_type": "code",
   "execution_count": 3,
   "metadata": {},
   "outputs": [
    {
     "name": "stdout",
     "output_type": "stream",
     "text": [
      "<class 'pandas.core.frame.DataFrame'>\n",
      "RangeIndex: 191641 entries, 0 to 191640\n",
      "Data columns (total 10 columns):\n",
      " #   Column               Non-Null Count   Dtype         \n",
      "---  ------               --------------   -----         \n",
      " 0   Unnamed: 0           191641 non-null  int64         \n",
      " 1   ID                   191641 non-null  int64         \n",
      " 2   Date                 191641 non-null  datetime64[ns]\n",
      " 3   LocationDescription  191641 non-null  object        \n",
      " 4   Arrest               191641 non-null  bool          \n",
      " 5   Domestic             191641 non-null  bool          \n",
      " 6   Beat                 191641 non-null  int64         \n",
      " 7   District             148585 non-null  float64       \n",
      " 8   CommunityArea        167025 non-null  float64       \n",
      " 9   Year                 191641 non-null  int64         \n",
      "dtypes: bool(2), datetime64[ns](1), float64(2), int64(4), object(1)\n",
      "memory usage: 12.1+ MB\n"
     ]
    }
   ],
   "source": [
    "df['District']=pd.to_numeric(df['District'],errors='coerce')\n",
    "df['CommunityArea']=pd.to_numeric(df['CommunityArea'], errors='coerce')\n",
    "df['Date']=pd.to_datetime(df['Date'], errors='coerce')\n",
    "df.info()"
   ]
  },
  {
   "cell_type": "code",
   "execution_count": 4,
   "metadata": {},
   "outputs": [
    {
     "data": {
      "text/plain": [
       "<matplotlib.axes._subplots.AxesSubplot at 0x15f1abde388>"
      ]
     },
     "execution_count": 4,
     "metadata": {},
     "output_type": "execute_result"
    },
    {
     "data": {
      "image/png": "[encoded data removed]",
      "text/plain": [
       "<Figure size 432x288 with 1 Axes>"
      ]
     },
     "metadata": {
      "needs_background": "light"
     },
     "output_type": "display_data"
    }
   ],
   "source": [
    "sns.heatmap(df.isnull(), yticklabels= False, cbar=False, cmap='viridis')"
   ]
  },
  {
   "cell_type": "code",
   "execution_count": 5,
   "metadata": {},
   "outputs": [
    {
     "data": {
      "text/plain": [
       "<matplotlib.axes._subplots.AxesSubplot at 0x15f1b5fe388>"
      ]
     },
     "execution_count": 5,
     "metadata": {},
     "output_type": "execute_result"
    },
    {
     "data": {
      "image/png": "[encoded data removed]",
      "text/plain": [
       "<Figure size 432x288 with 1 Axes>"
      ]
     },
     "metadata": {
      "needs_background": "light"
     },
     "output_type": "display_data"
    }
   ],
   "source": [
    "sns.distplot(df['District'].dropna(), kde=False, color='darkred', bins=30)"
   ]
  },
  {
   "cell_type": "code",
   "execution_count": 6,
   "metadata": {},
   "outputs": [
    {
     "data": {
      "text/plain": [
       "<matplotlib.axes._subplots.AxesSubplot at 0x15f1adad648>"
      ]
     },
     "execution_count": 6,
     "metadata": {},
     "output_type": "execute_result"
    },
    {
     "data": {
      "image/png": "[encoded data removed]",
      "text/plain": [
       "<Figure size 864x360 with 1 Axes>"
      ]
     },
     "metadata": {
      "needs_background": "light"
     },
     "output_type": "display_data"
    }
   ],
   "source": [
    "plt.figure(figsize=(12,5))\n",
    "sns.boxplot(x='Arrest', y='District', data = df)"
   ]
  },
  {
   "cell_type": "code",
   "execution_count": 7,
   "metadata": {},
   "outputs": [],
   "source": [
    "def inpute_dist(cols):\n",
    "    district = cols[0]\n",
    "    arr = cols[1]\n",
    "    if pd.isnull(district):\n",
    "        if arr == False:\n",
    "            return 10\n",
    "        else:\n",
    "            return 10\n",
    "    else:\n",
    "        return district"
   ]
  },
  {
   "cell_type": "code",
   "execution_count": 8,
   "metadata": {},
   "outputs": [],
   "source": [
    "df['District']=df[['District','Arrest']].apply(inpute_dist,axis=1)"
   ]
  },
  {
   "cell_type": "code",
   "execution_count": 9,
   "metadata": {},
   "outputs": [
    {
     "data": {
      "text/plain": [
       "<matplotlib.axes._subplots.AxesSubplot at 0x15f1acbc588>"
      ]
     },
     "execution_count": 9,
     "metadata": {},
     "output_type": "execute_result"
    },
    {
     "data": {
      "image/png": "[encoded data removed]",
      "text/plain": [
       "<Figure size 432x288 with 1 Axes>"
      ]
     },
     "metadata": {
      "needs_background": "light"
     },
     "output_type": "display_data"
    }
   ],
   "source": [
    "sns.heatmap(df.isnull(), yticklabels=False, cbar=False, cmap='viridis')"
   ]
  },
  {
   "cell_type": "code",
   "execution_count": 10,
   "metadata": {},
   "outputs": [
    {
     "data": {
      "text/plain": [
       "<matplotlib.axes._subplots.AxesSubplot at 0x15f1acd1d88>"
      ]
     },
     "execution_count": 10,
     "metadata": {},
     "output_type": "execute_result"
    },
    {
     "data": {
      "image/png": "[encoded data removed]",
      "text/plain": [
       "<Figure size 864x360 with 1 Axes>"
      ]
     },
     "metadata": {
      "needs_background": "light"
     },
     "output_type": "display_data"
    }
   ],
   "source": [
    "plt.figure(figsize=(12,5))\n",
    "sns.boxplot(x='Arrest', y='CommunityArea', data = df)"
   ]
  },
  {
   "cell_type": "code",
   "execution_count": 11,
   "metadata": {},
   "outputs": [],
   "source": [
    "def inpute_com(cols):\n",
    "    community=cols[0]\n",
    "    arr=cols[1]\n",
    "    if pd.isnull(community):\n",
    "        if arr==False:\n",
    "            return 32\n",
    "        else:\n",
    "            return 32\n",
    "    else:\n",
    "        return community"
   ]
  },
  {
   "cell_type": "code",
   "execution_count": 12,
   "metadata": {},
   "outputs": [],
   "source": [
    "df['CommunityArea']=df[['CommunityArea','Arrest']].apply(inpute_com,axis=1)"
   ]
  },
  {
   "cell_type": "code",
   "execution_count": 13,
   "metadata": {},
   "outputs": [
    {
     "data": {
      "text/plain": [
       "<matplotlib.axes._subplots.AxesSubplot at 0x15f1d05f048>"
      ]
     },
     "execution_count": 13,
     "metadata": {},
     "output_type": "execute_result"
    },
    {
     "data": {
      "image/png": "[encoded data removed]",
      "text/plain": [
       "<Figure size 432x288 with 1 Axes>"
      ]
     },
     "metadata": {
      "needs_background": "light"
     },
     "output_type": "display_data"
    }
   ],
   "source": [
    "sns.heatmap(df.isnull(), yticklabels=False, cbar=False, cmap='viridis')"
   ]
  },
  {
   "cell_type": "code",
   "execution_count": 14,
   "metadata": {},
   "outputs": [],
   "source": [
    "median = df.median()"
   ]
  },
  {
   "cell_type": "code",
   "execution_count": 15,
   "metadata": {},
   "outputs": [
    {
     "name": "stdout",
     "output_type": "stream",
     "text": [
      "Unnamed: 0         95820.0\n",
      "ID               4762956.0\n",
      "Arrest                 0.0\n",
      "Domestic               0.0\n",
      "Beat                1121.0\n",
      "District              10.0\n",
      "CommunityArea         32.0\n",
      "Year                2006.0\n",
      "dtype: float64\n"
     ]
    }
   ],
   "source": [
    "print(median)"
   ]
  },
  {
   "cell_type": "code",
   "execution_count": 16,
   "metadata": {},
   "outputs": [],
   "source": [
    "date_numeric=pd.to_numeric(df['Date'])\n",
    "date_median_numeric=np.median(date_numeric)\n",
    "date_median=pd.to_datetime(date_median_numeric)"
   ]
  },
  {
   "cell_type": "code",
   "execution_count": 17,
   "metadata": {},
   "outputs": [
    {
     "name": "stdout",
     "output_type": "stream",
     "text": [
      "2006-05-21 12:30:00\n"
     ]
    }
   ],
   "source": [
    "print(date_median)"
   ]
  },
  {
   "cell_type": "code",
   "execution_count": 18,
   "metadata": {},
   "outputs": [],
   "source": [
    "thefts = df['Beat'] + df['District'] + df['CommunityArea']\n",
    "df['TotalThefts'] = thefts"
   ]
  },
  {
   "cell_type": "code",
   "execution_count": 19,
   "metadata": {},
   "outputs": [
    {
     "name": "stdout",
     "output_type": "stream",
     "text": [
      "2006-05-28 17:00:00\n"
     ]
    }
   ],
   "source": [
    "min_theft = df['TotalThefts'].idxmin()\n",
    "print(df['Date'][min_theft])"
   ]
  },
  {
   "cell_type": "code",
   "execution_count": 20,
   "metadata": {},
   "outputs": [
    {
     "name": "stdout",
     "output_type": "stream",
     "text": [
      "2583.0\n"
     ]
    }
   ],
   "source": [
    "maxval = df['TotalThefts'].max()\n",
    "print(maxval)"
   ]
  },
  {
   "cell_type": "code",
   "execution_count": 21,
   "metadata": {},
   "outputs": [],
   "source": [
    "index=[]\n",
    "for i in df['TotalThefts']:\n",
    "    if df['TotalThefts'][i]==2583.0:\n",
    "        index.append(i)"
   ]
  },
  {
   "cell_type": "code",
   "execution_count": 22,
   "metadata": {},
   "outputs": [
    {
     "name": "stdout",
     "output_type": "stream",
     "text": [
      "906.0     1846\n",
      "2582.0    1682\n",
      "2583.0    1406\n",
      "905.0     1265\n",
      "807.0     1264\n",
      "          ... \n",
      "2561.0       1\n",
      "593.0        1\n",
      "794.0        1\n",
      "2338.0       1\n",
      "1097.0       1\n",
      "Name: TotalThefts, Length: 869, dtype: int64\n"
     ]
    }
   ],
   "source": [
    "counts = df['TotalThefts'].value_counts()\n",
    "print(counts)"
   ]
  },
  {
   "cell_type": "code",
   "execution_count": 23,
   "metadata": {},
   "outputs": [
    {
     "name": "stdout",
     "output_type": "stream",
     "text": [
      "2012-12-30 15:00:00\n"
     ]
    }
   ],
   "source": [
    "maxvalind=df['TotalThefts'].idxmax()\n",
    "print(df['Date'][maxvalind])"
   ]
  },
  {
   "cell_type": "code",
   "execution_count": 24,
   "metadata": {},
   "outputs": [],
   "source": [
    "select = df.loc[df['Arrest']==True, 'TotalThefts']"
   ]
  },
  {
   "cell_type": "code",
   "execution_count": 83,
   "metadata": {},
   "outputs": [],
   "source": [
    "new_ind = select.idxmax()"
   ]
  },
  {
   "cell_type": "code",
   "execution_count": 26,
   "metadata": {},
   "outputs": [
    {
     "name": "stdout",
     "output_type": "stream",
     "text": [
      "2012-12-30 15:00:00\n"
     ]
    }
   ],
   "source": [
    "print(df['Date'][new_ind])"
   ]
  },
  {
   "cell_type": "code",
   "execution_count": 27,
   "metadata": {},
   "outputs": [
    {
     "name": "stdout",
     "output_type": "stream",
     "text": [
      "59\n"
     ]
    }
   ],
   "source": [
    "print(new_ind)"
   ]
  },
  {
   "cell_type": "code",
   "execution_count": 28,
   "metadata": {},
   "outputs": [
    {
     "name": "stdout",
     "output_type": "stream",
     "text": [
      "2012-12-30 15:00:00\n"
     ]
    }
   ],
   "source": [
    "print(df['Date'][59])"
   ]
  },
  {
   "cell_type": "code",
   "execution_count": 34,
   "metadata": {},
   "outputs": [
    {
     "data": {
      "text/plain": [
       "<matplotlib.axes._subplots.AxesSubplot at 0x15fc81da8c8>"
      ]
     },
     "execution_count": 34,
     "metadata": {},
     "output_type": "execute_result"
    },
    {
     "data": {
      "image/png": "[encoded data removed]",
      "text/plain": [
       "<Figure size 432x288 with 1 Axes>"
      ]
     },
     "metadata": {
      "needs_background": "light"
     },
     "output_type": "display_data"
    }
   ],
   "source": [
    "sns.distplot(df['TotalThefts'], kde=False, color='darkred', bins=30)"
   ]
  },
  {
   "cell_type": "code",
   "execution_count": 35,
   "metadata": {},
   "outputs": [
    {
     "name": "stdout",
     "output_type": "stream",
     "text": [
      "2001    20669\n",
      "2002    18753\n",
      "2004    16862\n",
      "2003    16657\n",
      "2005    16484\n",
      "2006    16098\n",
      "2011    15637\n",
      "2010    15497\n",
      "2008    14445\n",
      "2007    14280\n",
      "2012    14092\n",
      "2009    12167\n",
      "Name: Year, dtype: int64\n"
     ]
    }
   ],
   "source": [
    "print(df['Year'].value_counts())"
   ]
  },
  {
   "cell_type": "code",
   "execution_count": 36,
   "metadata": {},
   "outputs": [
    {
     "name": "stdout",
     "output_type": "stream",
     "text": [
      "Year\n",
      "2001    20669\n",
      "2002    18753\n",
      "2003    16657\n",
      "2004    16862\n",
      "2005    16484\n",
      "2006    16098\n",
      "2007    14280\n",
      "2008    14445\n",
      "2009    12167\n",
      "2010    15497\n",
      "2011    15637\n",
      "2012    14092\n",
      "Name: TotalThefts, dtype: int64\n"
     ]
    }
   ],
   "source": [
    "print(df.groupby(\"Year\")[\"TotalThefts\"].count())"
   ]
  },
  {
   "cell_type": "code",
   "execution_count": 37,
   "metadata": {},
   "outputs": [
    {
     "name": "stdout",
     "output_type": "stream",
     "text": [
      "      Unnamed: 0     ID   Date  LocationDescription  Arrest  Domestic   Beat  \\\n",
      "Year                                                                           \n",
      "2001       20669  20669  20669                20669   20669     20669  20669   \n",
      "2002       18753  18753  18753                18753   18753     18753  18753   \n",
      "2003       16657  16657  16657                16657   16657     16657  16657   \n",
      "2004       16862  16862  16862                16862   16862     16862  16862   \n",
      "2005       16484  16484  16484                16484   16484     16484  16484   \n",
      "2006       16098  16098  16098                16098   16098     16098  16098   \n",
      "2007       14280  14280  14280                14280   14280     14280  14280   \n",
      "2008       14445  14445  14445                14445   14445     14445  14445   \n",
      "2009       12167  12167  12167                12167   12167     12167  12167   \n",
      "2010       15497  15497  15497                15497   15497     15497  15497   \n",
      "2011       15637  15637  15637                15637   15637     15637  15637   \n",
      "2012       14092  14092  14092                14092   14092     14092  14092   \n",
      "\n",
      "      District  CommunityArea  TotalThefts  \n",
      "Year                                        \n",
      "2001     20669          20669        20669  \n",
      "2002     18753          18753        18753  \n",
      "2003     16657          16657        16657  \n",
      "2004     16862          16862        16862  \n",
      "2005     16484          16484        16484  \n",
      "2006     16098          16098        16098  \n",
      "2007     14280          14280        14280  \n",
      "2008     14445          14445        14445  \n",
      "2009     12167          12167        12167  \n",
      "2010     15497          15497        15497  \n",
      "2011     15637          15637        15637  \n",
      "2012     14092          14092        14092  \n"
     ]
    }
   ],
   "source": [
    "print(df.groupby(\"Year\").count())"
   ]
  },
  {
   "cell_type": "code",
   "execution_count": 47,
   "metadata": {},
   "outputs": [],
   "source": [
    "grouping = df.groupby(\"Year\")[\"TotalThefts\"].sum()"
   ]
  },
  {
   "cell_type": "code",
   "execution_count": 53,
   "metadata": {},
   "outputs": [
    {
     "name": "stdout",
     "output_type": "stream",
     "text": [
      "Year\n",
      "2001    27456946.0\n",
      "2002    24540586.0\n",
      "2003    21592057.0\n",
      "2004    22104075.0\n",
      "2005    21619959.0\n",
      "2006    20370673.0\n",
      "2007    18602114.0\n",
      "2008    18628534.0\n",
      "2009    16380214.0\n",
      "2010    20398346.0\n",
      "2011    20446954.0\n",
      "2012    18420313.0\n",
      "Name: TotalThefts, dtype: float64\n"
     ]
    }
   ],
   "source": [
    "print(grouping)"
   ]
  },
  {
   "cell_type": "code",
   "execution_count": 82,
   "metadata": {},
   "outputs": [
    {
     "data": {
      "text/plain": [
       "<BarContainer object of 12 artists>"
      ]
     },
     "execution_count": 82,
     "metadata": {},
     "output_type": "execute_result"
    },
    {
     "data": {
      "image/png": "[encoded data removed]",
      "text/plain": [
       "<Figure size 432x288 with 1 Axes>"
      ]
     },
     "metadata": {
      "needs_background": "light"
     },
     "output_type": "display_data"
    }
   ],
   "source": [
    "x_axis = df.Year.unique()\n",
    "y_axis = grouping\n",
    "plt.bar(x_axis,y_axis)"
   ]
  },
  {
   "cell_type": "code",
   "execution_count": 85,
   "metadata": {},
   "outputs": [
    {
     "name": "stdout",
     "output_type": "stream",
     "text": [
      "(15536,)\n"
     ]
    }
   ],
   "source": [
    "print(select.shape)"
   ]
  },
  {
   "cell_type": "code",
   "execution_count": 87,
   "metadata": {},
   "outputs": [],
   "source": [
    "df['busted'] = df.loc[df['Arrest']==True, 'TotalThefts']"
   ]
  },
  {
   "cell_type": "code",
   "execution_count": 88,
   "metadata": {},
   "outputs": [],
   "source": [
    "grouping2 = df.groupby(\"Year\")[\"busted\"].sum()"
   ]
  },
  {
   "cell_type": "code",
   "execution_count": 92,
   "metadata": {},
   "outputs": [
    {
     "data": {
      "text/plain": [
       "<BarContainer object of 12 artists>"
      ]
     },
     "execution_count": 92,
     "metadata": {},
     "output_type": "execute_result"
    },
    {
     "data": {
      "image/png": "[encoded data removed]",
      "text/plain": [
       "<Figure size 432x288 with 1 Axes>"
      ]
     },
     "metadata": {
      "needs_background": "light"
     },
     "output_type": "display_data"
    }
   ],
   "source": [
    "x_axis = df.Year.unique()\n",
    "y_axis = grouping2\n",
    "plt.bar(x_axis,y_axis)"
   ]
  },
  {
   "cell_type": "code",
   "execution_count": 93,
   "metadata": {},
   "outputs": [
    {
     "name": "stdout",
     "output_type": "stream",
     "text": [
      "Year\n",
      "2001    2775231.0\n",
      "2002    2696549.0\n",
      "2003    2306359.0\n",
      "2004    2273038.0\n",
      "2005    2069056.0\n",
      "2006    1700042.0\n",
      "2007    1555534.0\n",
      "2008    1266710.0\n",
      "2009    1107838.0\n",
      "2010     953245.0\n",
      "2011     823845.0\n",
      "2012     723903.0\n",
      "Name: busted, dtype: float64\n"
     ]
    }
   ],
   "source": [
    "print(grouping2)"
   ]
  },
  {
   "cell_type": "code",
   "execution_count": 94,
   "metadata": {},
   "outputs": [
    {
     "name": "stdout",
     "output_type": "stream",
     "text": [
      "0.10107573507993205\n"
     ]
    }
   ],
   "source": [
    "print(2775231.0/27456946.0)"
   ]
  },
  {
   "cell_type": "code",
   "execution_count": 95,
   "metadata": {},
   "outputs": [
    {
     "name": "stdout",
     "output_type": "stream",
     "text": [
      "0.08362135615339203\n"
     ]
    }
   ],
   "source": [
    "print(1555534.0/18602114.0)"
   ]
  },
  {
   "cell_type": "code",
   "execution_count": 100,
   "metadata": {
    "scrolled": true
   },
   "outputs": [],
   "source": [
    "location = df.groupby(\"LocationDescription\")[\"TotalThefts\"].sum()"
   ]
  },
  {
   "cell_type": "code",
   "execution_count": 104,
   "metadata": {},
   "outputs": [
    {
     "name": "stdout",
     "output_type": "stream",
     "text": [
      "LocationDescription\n",
      "STREET                            206322156.0\n",
      "PARKING LOT/GARAGE(NON.RESID.)     19039723.0\n",
      "OTHER                               5824679.0\n",
      "ALLEY                               3067813.0\n",
      "GAS STATION                         2479380.0\n",
      "DRIVEWAY - RESIDENTIAL              2141265.0\n",
      "Name: TotalThefts, dtype: float64\n"
     ]
    }
   ],
   "source": [
    "popular = location.nlargest(6)\n",
    "print(popular)"
   ]
  },
  {
   "cell_type": "code",
   "execution_count": 109,
   "metadata": {},
   "outputs": [],
   "source": [
    "loc1 = df.loc[df['LocationDescription']==\"STREET\", 'TotalThefts']\n",
    "loc2 = df.loc[df['LocationDescription']==\"PARKING LOT/GARAGE(NON.RESID.)\", 'TotalThefts']\n",
    "loc3 = df.loc[df['LocationDescription']==\"ALLEY\", 'TotalThefts']\n",
    "loc4 = df.loc[df['LocationDescription']==\"GAS STATION\", 'TotalThefts']\n",
    "loc5 = df.loc[df['LocationDescription']==\"DRIVEWAY - RESIDENTIAL\", 'TotalThefts']"
   ]
  },
  {
   "cell_type": "code",
   "execution_count": 117,
   "metadata": {},
   "outputs": [],
   "source": [
    "a = loc1.size + loc2.size + loc3.size + loc4.size + loc5.size"
   ]
  },
  {
   "cell_type": "code",
   "execution_count": 118,
   "metadata": {},
   "outputs": [
    {
     "name": "stdout",
     "output_type": "stream",
     "text": [
      "177510\n"
     ]
    }
   ],
   "source": [
    "print(a)"
   ]
  },
  {
   "cell_type": "code",
   "execution_count": 119,
   "metadata": {},
   "outputs": [
    {
     "name": "stdout",
     "output_type": "stream",
     "text": [
      "2111\n"
     ]
    }
   ],
   "source": [
    "print(loc4.size)"
   ]
  },
  {
   "cell_type": "code",
   "execution_count": 121,
   "metadata": {},
   "outputs": [
    {
     "name": "stdout",
     "output_type": "stream",
     "text": [
      "17502\n"
     ]
    }
   ],
   "source": [
    "print(loc4.idxmax())"
   ]
  },
  {
   "cell_type": "code",
   "execution_count": 123,
   "metadata": {},
   "outputs": [
    {
     "name": "stdout",
     "output_type": "stream",
     "text": [
      "2583.0\n"
     ]
    }
   ],
   "source": [
    "print(loc4.max())"
   ]
  },
  {
   "cell_type": "code",
   "execution_count": 122,
   "metadata": {},
   "outputs": [
    {
     "name": "stdout",
     "output_type": "stream",
     "text": [
      "2583.0\n"
     ]
    }
   ],
   "source": [
    "print(df['TotalThefts'][17502])"
   ]
  },
  {
   "cell_type": "code",
   "execution_count": 124,
   "metadata": {},
   "outputs": [
    {
     "name": "stdout",
     "output_type": "stream",
     "text": [
      "2011-10-08 01:00:00\n"
     ]
    }
   ],
   "source": [
    "print(df['Date'][17502])"
   ]
  },
  {
   "cell_type": "code",
   "execution_count": null,
   "metadata": {},
   "outputs": [],
   "source": []
  }
 ],
 "metadata": {
  "kernelspec": {
   "display_name": "Python 3",
   "language": "python",
   "name": "python3"
  },
  "language_info": {
   "codemirror_mode": {
    "name": "ipython",
    "version": 3
   },
   "file_extension": ".py",
   "mimetype": "text/x-python",
   "name": "python",
   "nbconvert_exporter": "python",
   "pygments_lexer": "ipython3",
   "version": "3.7.6"
  }
 },
 "nbformat": 4,
 "nbformat_minor": 4
}
